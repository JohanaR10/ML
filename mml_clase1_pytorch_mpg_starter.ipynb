{
  "cells": [
    {
      "cell_type": "markdown",
      "metadata": {
        "id": "view-in-github",
        "colab_type": "text"
      },
      "source": [
        "<a href=\"https://colab.research.google.com/github/JohanaR10/ML/blob/main/mml_clase1_pytorch_mpg_starter.ipynb\" target=\"_parent\"><img src=\"https://colab.research.google.com/assets/colab-badge.svg\" alt=\"Open In Colab\"/></a>"
      ]
    },
    {
      "cell_type": "markdown",
      "metadata": {
        "id": "_Hq739EyGb3y"
      },
      "source": [
        "## Mastering Machine Learning 2025"
      ]
    },
    {
      "cell_type": "markdown",
      "metadata": {
        "id": "fJkJsOuHGb30"
      },
      "source": [
        "### Clase 1: Introducción a redes neuronales en pytorch\n",
        "\n",
        "- Redes densas\n",
        "- Redes para regresión\n",
        "- Funciones de activación y pérdida\n"
      ]
    },
    {
      "cell_type": "markdown",
      "source": [
        "Empecemos importando numpy y pandas"
      ],
      "metadata": {
        "id": "OXCuT4WNIQRr"
      }
    },
    {
      "cell_type": "code",
      "source": [
        "import numpy as np\n",
        "import pandas as pd"
      ],
      "metadata": {
        "id": "XvZd5CxTGdcd"
      },
      "execution_count": null,
      "outputs": []
    },
    {
      "cell_type": "markdown",
      "source": [
        "Montemos el drive de google para leer archivos almacenados allí"
      ],
      "metadata": {
        "id": "kGg9_6DtITUc"
      }
    },
    {
      "cell_type": "code",
      "source": [
        "from google.colab import drive\n",
        "drive.mount('/content/gdrive')"
      ],
      "metadata": {
        "id": "XbAZ5HecG14P"
      },
      "execution_count": null,
      "outputs": []
    },
    {
      "cell_type": "markdown",
      "source": [
        "Carguemos el archivo auto-mpg.data (disponible en Bloque Neón) usando pandas. Note que debemos incluir los nombres de las columnas, además de indicar los caracteres para separación, nas y comentarios."
      ],
      "metadata": {
        "id": "QbWocciXIZjU"
      }
    },
    {
      "cell_type": "code",
      "source": [
        "df = pd.read_csv('gdrive/My Drive/25_mml/sesiones/auto-mpg.data',\n",
        "                 names=['MPG', 'Cylinders', 'Displacement', 'Horsepower', 'Weight',\n",
        "                'Acceleration', 'Model Year', 'Origin'],\n",
        "                 sep=' ',\n",
        "                 na_values='?',\n",
        "                 comment='\\t',\n",
        "                 skipinitialspace=True\n",
        "                 )"
      ],
      "metadata": {
        "id": "SrWIjZxQG-Pm"
      },
      "execution_count": null,
      "outputs": []
    },
    {
      "cell_type": "markdown",
      "source": [
        "Exploremos las primeras filas del dataframe."
      ],
      "metadata": {
        "id": "It4_BrEgI6_w"
      }
    },
    {
      "cell_type": "code",
      "source": [
        "df.head()"
      ],
      "metadata": {
        "id": "VjBQLhr3INGC"
      },
      "execution_count": null,
      "outputs": []
    },
    {
      "cell_type": "markdown",
      "source": [
        "- MPG: miles per gallon\n",
        "- Cylinders: # de cilindros\n",
        "- Displacement: volumen desplazado por los pistones\n",
        "- Horsepower: caballos de potencia\n",
        "- Weight: peso\n",
        "- Acceleration: aceleración\n",
        "- Model Year: año/modelo\n",
        "- Origin: 1:USA, 2:Europa, 3:Japón"
      ],
      "metadata": {
        "id": "Sf3tQ4SdKQy7"
      }
    },
    {
      "cell_type": "markdown",
      "source": [
        "Exploremos el tamaño del df"
      ],
      "metadata": {
        "id": "GRDlL9vAJAz1"
      }
    },
    {
      "cell_type": "code",
      "source": [
        "df.shape"
      ],
      "metadata": {
        "id": "PeHyTPnEJC8f"
      },
      "execution_count": null,
      "outputs": []
    },
    {
      "cell_type": "markdown",
      "source": [
        "Identificamos NAs en los datos"
      ],
      "metadata": {
        "id": "dONjz931JFhG"
      }
    },
    {
      "cell_type": "code",
      "source": [
        "df.isna().sum()"
      ],
      "metadata": {
        "id": "47pvp0jtJFKt"
      },
      "execution_count": null,
      "outputs": []
    },
    {
      "cell_type": "code",
      "source": [
        "df.dropna(inplace=True)"
      ],
      "metadata": {
        "id": "VLFDxYntJ-V6"
      },
      "execution_count": null,
      "outputs": []
    },
    {
      "cell_type": "code",
      "source": [
        "df.shape"
      ],
      "metadata": {
        "id": "LdrDznxmKEqU"
      },
      "execution_count": null,
      "outputs": []
    },
    {
      "cell_type": "code",
      "source": [
        "df=df.reset_index(drop=True)"
      ],
      "metadata": {
        "id": "yhM7A63WVL91"
      },
      "execution_count": null,
      "outputs": []
    },
    {
      "cell_type": "code",
      "source": [
        "df"
      ],
      "metadata": {
        "id": "6xj0X-3tVS6W"
      },
      "execution_count": null,
      "outputs": []
    },
    {
      "cell_type": "markdown",
      "source": [
        "Separamos los datos en entrenamiento y prueba"
      ],
      "metadata": {
        "id": "8Ls8L1hRMQh4"
      }
    },
    {
      "cell_type": "code",
      "source": [
        "from sklearn import model_selection"
      ],
      "metadata": {
        "id": "sbel5_Oqc0Rq"
      },
      "execution_count": null,
      "outputs": []
    },
    {
      "cell_type": "code",
      "source": [
        "train, test = model_selection.train_test_split(df, train_size=0.8, random_state=100)\n",
        "train.head()"
      ],
      "metadata": {
        "id": "8dADsWjtMTcS"
      },
      "execution_count": null,
      "outputs": []
    },
    {
      "cell_type": "code",
      "source": [
        "train.shape"
      ],
      "metadata": {
        "id": "GZOQNUy2jSwH"
      },
      "execution_count": null,
      "outputs": []
    },
    {
      "cell_type": "code",
      "source": [
        "test = df.drop(train.index)\n",
        "test.head()"
      ],
      "metadata": {
        "id": "TC9xJuiKMenc"
      },
      "execution_count": null,
      "outputs": []
    },
    {
      "cell_type": "code",
      "source": [
        "print(train.shape)\n",
        "print(test.shape)"
      ],
      "metadata": {
        "id": "-H2PITXhMmcz"
      },
      "execution_count": null,
      "outputs": []
    },
    {
      "cell_type": "markdown",
      "source": [
        "Realicemos una exploración descriptiva de los datos, calculando inicialmente estadísticas de cada variable continua"
      ],
      "metadata": {
        "id": "t58x12kjNrK7"
      }
    },
    {
      "cell_type": "code",
      "source": [
        "train.describe()"
      ],
      "metadata": {
        "id": "Ycw_T_PnNtmr"
      },
      "execution_count": null,
      "outputs": []
    },
    {
      "cell_type": "markdown",
      "source": [
        "Exploremos relaciones bivariadas con pairplot de seaborn"
      ],
      "metadata": {
        "id": "obRp7Qr3M1gE"
      }
    },
    {
      "cell_type": "code",
      "source": [
        "import seaborn as sns"
      ],
      "metadata": {
        "id": "QA4kCzEoNIc5"
      },
      "execution_count": null,
      "outputs": []
    },
    {
      "cell_type": "code",
      "source": [
        "sns.pairplot(train)"
      ],
      "metadata": {
        "id": "AAZexVxsM5Sm"
      },
      "execution_count": null,
      "outputs": []
    },
    {
      "cell_type": "markdown",
      "source": [
        "Calculemos la matriz de correlacion"
      ],
      "metadata": {
        "id": "gMdDgjyMSoi6"
      }
    },
    {
      "cell_type": "code",
      "source": [
        "train.corr()"
      ],
      "metadata": {
        "id": "8BxKu1MZOF0q"
      },
      "execution_count": null,
      "outputs": []
    },
    {
      "cell_type": "code",
      "source": [
        "sns.heatmap(train.corr())"
      ],
      "metadata": {
        "id": "JaMThi75OMGs"
      },
      "execution_count": null,
      "outputs": []
    },
    {
      "cell_type": "code",
      "source": [
        "numeric_cols = ['Cylinders', 'Displacement','Horsepower','Weight','Acceleration', 'Model Year']"
      ],
      "metadata": {
        "id": "1jMkg5O2iY9p"
      },
      "execution_count": null,
      "outputs": []
    },
    {
      "cell_type": "code",
      "source": [
        "train_norm , test_norm = train.copy(), test.copy()\n",
        "\n",
        "for col in numeric_cols:\n",
        "  mean = train[col].mean()\n",
        "  std = train[col].std()\n",
        "\n",
        "  train_norm[col] = ( train_norm[col] - mean) /std\n",
        "  test_norm[col] = (test_norm[col] - mean) /std"
      ],
      "metadata": {
        "id": "VAIEAMO7iid1"
      },
      "execution_count": null,
      "outputs": []
    },
    {
      "cell_type": "code",
      "source": [
        "train_norm.head()"
      ],
      "metadata": {
        "id": "JaA3_AZR5UJ_"
      },
      "execution_count": null,
      "outputs": []
    },
    {
      "cell_type": "markdown",
      "source": [
        "Codificación one-hot para Origin y generación de datos de entrada x_train y x_test, en formato tensor"
      ],
      "metadata": {
        "id": "N_aef6dM7smB"
      }
    },
    {
      "cell_type": "code",
      "source": [
        "import torch\n",
        "from torch.nn.functional import one_hot\n",
        "\n",
        "# determinar número de categorías\n",
        "n_categories = len(set(train_norm['Origin']))\n",
        "\n",
        "# codificación one hot para Origin - train set\n",
        "origin_encoded = one_hot(torch.from_numpy(train_norm['Origin'].values % n_categories))\n",
        "x_train_numeric = torch.tensor(train_norm[numeric_cols].values)\n",
        "x_train = torch.cat([x_train_numeric, origin_encoded], 1).float()\n",
        "\n",
        "# codificación one hot para Origin - test set\n",
        "origin_encoded = one_hot(torch.from_numpy(test_norm['Origin'].values % n_categories))\n",
        "x_test_numeric = torch.tensor(test_norm[numeric_cols].values)\n",
        "x_test = torch.cat([x_test_numeric, origin_encoded], 1).float()"
      ],
      "metadata": {
        "id": "RWfRtq1-adig"
      },
      "execution_count": null,
      "outputs": []
    },
    {
      "cell_type": "markdown",
      "source": [
        "Datos de salida en formato tensor"
      ],
      "metadata": {
        "id": "6_ZxWAsY70S-"
      }
    },
    {
      "cell_type": "code",
      "source": [
        "y_train = torch.tensor(train_norm['MPG'].values).float()\n",
        "y_test = torch.tensor(test_norm['MPG'].values).float()"
      ],
      "metadata": {
        "id": "rgyOHksx7fCF"
      },
      "execution_count": null,
      "outputs": []
    },
    {
      "cell_type": "markdown",
      "source": [
        "Crear un Dataset y un DataLoader para el entrenamiento de los modelos"
      ],
      "metadata": {
        "id": "33MzsfJM7_EN"
      }
    },
    {
      "cell_type": "code",
      "source": [
        "from torch.utils.data import Dataset, TensorDataset, DataLoader\n",
        "\n",
        "train_ds = TensorDataset(x_train, y_train)\n",
        "batch_size = 16\n",
        "torch.manual_seed(42)\n",
        "\n",
        "train_dl = DataLoader(train_ds, batch_size, shuffle = True)"
      ],
      "metadata": {
        "id": "YDoD5lhU8JgT"
      },
      "execution_count": null,
      "outputs": []
    },
    {
      "cell_type": "markdown",
      "source": [
        "Crear un primer modelo con dos capas ocultas de 8 y 4 neuronas (función de activación ReLU) y una salida lineal (regresión)"
      ],
      "metadata": {
        "id": "99us1OTF8Q_B"
      }
    },
    {
      "cell_type": "code",
      "source": [
        "import torch.nn as nn\n",
        "\n",
        "hidden_units = [8, 4]\n",
        "input_size = x_train.shape[1]\n",
        "\n",
        "all_layers = []\n",
        "for hidden_units_layer in hidden_units:\n",
        "  layer = nn.Linear(input_size, hidden_units_layer)\n",
        "  all_layers.append(layer)\n",
        "  all_layers.append(nn.ReLU())\n",
        "  input_size = hidden_units_layer\n",
        "\n",
        "all_layers.append(nn.Linear(hidden_units[-1], 1))\n",
        "model = nn.Sequential(*all_layers)\n",
        "\n",
        "model"
      ],
      "metadata": {
        "id": "bV1o4_rV8S7a"
      },
      "execution_count": null,
      "outputs": []
    },
    {
      "cell_type": "markdown",
      "source": [
        "Entrenar el modelo usando descenso del gradiente estocástico y función de pérdida MSE (mean squared error)"
      ],
      "metadata": {
        "id": "4O1Kjlhb8_Id"
      }
    },
    {
      "cell_type": "code",
      "source": [
        "loss_fn = nn.MSELoss()\n",
        "optimizer = torch.optim.SGD(model.parameters(), lr = 0.001)\n",
        "\n",
        "torch.manual_seed(1)\n",
        "num_epochs = 200\n",
        "log_epochs = 20\n",
        "\n",
        "for epoch in range(num_epochs):\n",
        "  loss_hist_train = 0\n",
        "  for x_batch, y_batch in train_dl:\n",
        "    pred = model(x_batch)[:,0]\n",
        "    loss = loss_fn(pred, y_batch)\n",
        "    loss.backward()\n",
        "    optimizer.step()\n",
        "    optimizer.zero_grad()\n",
        "    loss_hist_train += loss.item()\n",
        "\n",
        "  if epoch % log_epochs == 0:\n",
        "    print(f'Epoch {epoch} Loss {loss_hist_train/len(train_dl):.4f}')"
      ],
      "metadata": {
        "id": "-zYFFJP49KQh"
      },
      "execution_count": null,
      "outputs": []
    },
    {
      "cell_type": "markdown",
      "source": [
        "Predicción de un nuevo dato de prueba y evaluación con MSE y MAE (mean absolute error)"
      ],
      "metadata": {
        "id": "hdPegyO_9wm5"
      }
    },
    {
      "cell_type": "code",
      "source": [
        "with torch.no_grad():\n",
        "  pred = model(x_test.float())[:,0]\n",
        "  loss = loss_fn(pred, y_test)\n",
        "  print(f'Test MSE: {loss.item():.4f}')\n",
        "  print(f'Test MAE: {nn.L1Loss()(pred,y_test).item():.4f}')"
      ],
      "metadata": {
        "id": "peFeaNJl9zrR"
      },
      "execution_count": null,
      "outputs": []
    }
  ],
  "metadata": {
    "kernelspec": {
      "display_name": "Python 3",
      "language": "python",
      "name": "python3"
    },
    "language_info": {
      "codemirror_mode": {
        "name": "ipython",
        "version": 3
      },
      "file_extension": ".py",
      "mimetype": "text/x-python",
      "name": "python",
      "nbconvert_exporter": "python",
      "pygments_lexer": "ipython3",
      "version": "3.11.4"
    },
    "orig_nbformat": 4,
    "colab": {
      "provenance": [],
      "include_colab_link": true
    }
  },
  "nbformat": 4,
  "nbformat_minor": 0
}